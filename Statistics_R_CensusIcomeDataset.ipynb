{
 "cells": [
  {
   "cell_type": "code",
   "execution_count": 1,
   "id": "c9f3affb-331d-4ce8-9c45-ed21a1715895",
   "metadata": {},
   "outputs": [],
   "source": [
    "df = read.csv('census_income.csv')"
   ]
  },
  {
   "cell_type": "code",
   "execution_count": 3,
   "id": "f5511d36-1113-4479-bbf3-b0b8245212bf",
   "metadata": {},
   "outputs": [
    {
     "data": {
      "text/html": [
       "<table class=\"dataframe\">\n",
       "<caption>A data.frame: 3 × 15</caption>\n",
       "<thead>\n",
       "\t<tr><th></th><th scope=col>age</th><th scope=col>workclass</th><th scope=col>fnlwgt</th><th scope=col>education</th><th scope=col>education.num</th><th scope=col>marital.status</th><th scope=col>occupation</th><th scope=col>relationship</th><th scope=col>race</th><th scope=col>sex</th><th scope=col>capital.gain</th><th scope=col>capital.loss</th><th scope=col>hours.per.week</th><th scope=col>native.country</th><th scope=col>Y</th></tr>\n",
       "\t<tr><th></th><th scope=col>&lt;int&gt;</th><th scope=col>&lt;chr&gt;</th><th scope=col>&lt;int&gt;</th><th scope=col>&lt;chr&gt;</th><th scope=col>&lt;int&gt;</th><th scope=col>&lt;chr&gt;</th><th scope=col>&lt;chr&gt;</th><th scope=col>&lt;chr&gt;</th><th scope=col>&lt;chr&gt;</th><th scope=col>&lt;chr&gt;</th><th scope=col>&lt;int&gt;</th><th scope=col>&lt;int&gt;</th><th scope=col>&lt;int&gt;</th><th scope=col>&lt;chr&gt;</th><th scope=col>&lt;chr&gt;</th></tr>\n",
       "</thead>\n",
       "<tbody>\n",
       "\t<tr><th scope=row>1</th><td>39</td><td><span style=white-space:pre-wrap> State-gov       </span></td><td> 77516</td><td> Bachelors</td><td>13</td><td><span style=white-space:pre-wrap> Never-married     </span></td><td><span style=white-space:pre-wrap> Adm-clerical     </span></td><td> Not-in-family</td><td> White</td><td> Male</td><td>2174</td><td>0</td><td>40</td><td> United-States</td><td> &lt;=50K</td></tr>\n",
       "\t<tr><th scope=row>2</th><td>50</td><td> Self-emp-not-inc</td><td> 83311</td><td> Bachelors</td><td>13</td><td> Married-civ-spouse</td><td><span style=white-space:pre-wrap> Exec-managerial  </span></td><td><span style=white-space:pre-wrap> Husband      </span></td><td> White</td><td> Male</td><td><span style=white-space:pre-wrap>   0</span></td><td>0</td><td>13</td><td> United-States</td><td> &lt;=50K</td></tr>\n",
       "\t<tr><th scope=row>3</th><td>38</td><td><span style=white-space:pre-wrap> Private         </span></td><td>215646</td><td><span style=white-space:pre-wrap> HS-grad  </span></td><td> 9</td><td><span style=white-space:pre-wrap> Divorced          </span></td><td> Handlers-cleaners</td><td> Not-in-family</td><td> White</td><td> Male</td><td><span style=white-space:pre-wrap>   0</span></td><td>0</td><td>40</td><td> United-States</td><td> &lt;=50K</td></tr>\n",
       "</tbody>\n",
       "</table>\n"
      ],
      "text/latex": [
       "A data.frame: 3 × 15\n",
       "\\begin{tabular}{r|lllllllllllllll}\n",
       "  & age & workclass & fnlwgt & education & education.num & marital.status & occupation & relationship & race & sex & capital.gain & capital.loss & hours.per.week & native.country & Y\\\\\n",
       "  & <int> & <chr> & <int> & <chr> & <int> & <chr> & <chr> & <chr> & <chr> & <chr> & <int> & <int> & <int> & <chr> & <chr>\\\\\n",
       "\\hline\n",
       "\t1 & 39 &  State-gov        &  77516 &  Bachelors & 13 &  Never-married      &  Adm-clerical      &  Not-in-family &  White &  Male & 2174 & 0 & 40 &  United-States &  <=50K\\\\\n",
       "\t2 & 50 &  Self-emp-not-inc &  83311 &  Bachelors & 13 &  Married-civ-spouse &  Exec-managerial   &  Husband       &  White &  Male &    0 & 0 & 13 &  United-States &  <=50K\\\\\n",
       "\t3 & 38 &  Private          & 215646 &  HS-grad   &  9 &  Divorced           &  Handlers-cleaners &  Not-in-family &  White &  Male &    0 & 0 & 40 &  United-States &  <=50K\\\\\n",
       "\\end{tabular}\n"
      ],
      "text/markdown": [
       "\n",
       "A data.frame: 3 × 15\n",
       "\n",
       "| <!--/--> | age &lt;int&gt; | workclass &lt;chr&gt; | fnlwgt &lt;int&gt; | education &lt;chr&gt; | education.num &lt;int&gt; | marital.status &lt;chr&gt; | occupation &lt;chr&gt; | relationship &lt;chr&gt; | race &lt;chr&gt; | sex &lt;chr&gt; | capital.gain &lt;int&gt; | capital.loss &lt;int&gt; | hours.per.week &lt;int&gt; | native.country &lt;chr&gt; | Y &lt;chr&gt; |\n",
       "|---|---|---|---|---|---|---|---|---|---|---|---|---|---|---|---|\n",
       "| 1 | 39 |  State-gov        |  77516 |  Bachelors | 13 |  Never-married      |  Adm-clerical      |  Not-in-family |  White |  Male | 2174 | 0 | 40 |  United-States |  &lt;=50K |\n",
       "| 2 | 50 |  Self-emp-not-inc |  83311 |  Bachelors | 13 |  Married-civ-spouse |  Exec-managerial   |  Husband       |  White |  Male |    0 | 0 | 13 |  United-States |  &lt;=50K |\n",
       "| 3 | 38 |  Private          | 215646 |  HS-grad   |  9 |  Divorced           |  Handlers-cleaners |  Not-in-family |  White |  Male |    0 | 0 | 40 |  United-States |  &lt;=50K |\n",
       "\n"
      ],
      "text/plain": [
       "  age workclass         fnlwgt education  education.num marital.status     \n",
       "1 39   State-gov         77516  Bachelors 13             Never-married     \n",
       "2 50   Self-emp-not-inc  83311  Bachelors 13             Married-civ-spouse\n",
       "3 38   Private          215646  HS-grad    9             Divorced          \n",
       "  occupation         relationship   race   sex   capital.gain capital.loss\n",
       "1  Adm-clerical       Not-in-family  White  Male 2174         0           \n",
       "2  Exec-managerial    Husband        White  Male    0         0           \n",
       "3  Handlers-cleaners  Not-in-family  White  Male    0         0           \n",
       "  hours.per.week native.country Y     \n",
       "1 40              United-States  <=50K\n",
       "2 13              United-States  <=50K\n",
       "3 40              United-States  <=50K"
      ]
     },
     "metadata": {},
     "output_type": "display_data"
    }
   ],
   "source": [
    "head(df,3)"
   ]
  },
  {
   "cell_type": "markdown",
   "id": "fc8b8743-0933-4698-8748-da756c7be41f",
   "metadata": {},
   "source": [
    "PAIRED - T-test"
   ]
  },
  {
   "cell_type": "code",
   "execution_count": 4,
   "id": "bb938824-4afe-48cf-bedf-765f00fa0357",
   "metadata": {},
   "outputs": [
    {
     "data": {
      "text/plain": [
       "\n",
       "\tPaired t-test\n",
       "\n",
       "data:  df$capital.gain and df$capital.loss\n",
       "t = 24.12, df = 32560, p-value < 2.2e-16\n",
       "alternative hypothesis: true difference in means is not equal to 0\n",
       "95 percent confidence interval:\n",
       "  909.8676 1070.8225\n",
       "sample estimates:\n",
       "mean of the differences \n",
       "                990.345 \n"
      ]
     },
     "metadata": {},
     "output_type": "display_data"
    }
   ],
   "source": [
    "t.test(df$capital.gain,df$capital.loss,paired = TRUE)"
   ]
  },
  {
   "cell_type": "markdown",
   "id": "cf7d1c10-16d4-45f2-9f41-da6a1f8e58f7",
   "metadata": {},
   "source": [
    "p value is very small hence we reject null hypothesis and accept alternative hypothesis: true difference in means is not equal to 0"
   ]
  },
  {
   "cell_type": "markdown",
   "id": "a9ca11a3-0791-4513-9615-624c3defb95c",
   "metadata": {},
   "source": [
    "FIND OIT IF THE HOURS PER WEEK ARE SIGNIFICANTLY DIFFERENT ACROSS GENDERS, INCOME LEVELS "
   ]
  },
  {
   "cell_type": "markdown",
   "id": "124f39e6-4014-46b9-aa9a-bea8c37cc38d",
   "metadata": {},
   "source": [
    "WE USE THE UMPAIRED T TEST"
   ]
  },
  {
   "cell_type": "markdown",
   "id": "1077cd6d-8cec-42aa-8fdb-0cf224de95bf",
   "metadata": {},
   "source": [
    "We should findout if the variance are different first to apply the appropriate test"
   ]
  },
  {
   "cell_type": "code",
   "execution_count": 10,
   "id": "59191e89-0729-4477-9ab9-dfd15e87057c",
   "metadata": {},
   "outputs": [
    {
     "data": {
      "text/plain": [
       "\n",
       "\tF test to compare two variances\n",
       "\n",
       "data:  df$hours.per.week[df$sex == \" Female\"] and df$hours.per.week[df$sex == \" Male\"]\n",
       "F = 0.94975, num df = 10770, denom df = 21789, p-value = 0.002041\n",
       "alternative hypothesis: true ratio of variances is not equal to 1\n",
       "95 percent confidence interval:\n",
       " 0.9193215 0.9813577\n",
       "sample estimates:\n",
       "ratio of variances \n",
       "         0.9497464 \n"
      ]
     },
     "metadata": {},
     "output_type": "display_data"
    },
    {
     "data": {
      "text/plain": [
       "\n",
       "\tF test to compare two variances\n",
       "\n",
       "data:  df$hours.per.week[df$Y == \" <=50K\"] and df$hours.per.week[df$Y != \" <=50K\"]\n",
       "F = 1.2512, num df = 24719, denom df = 7840, p-value < 2.2e-16\n",
       "alternative hypothesis: true ratio of variances is not equal to 1\n",
       "95 percent confidence interval:\n",
       " 1.206880 1.296796\n",
       "sample estimates:\n",
       "ratio of variances \n",
       "          1.251243 \n"
      ]
     },
     "metadata": {},
     "output_type": "display_data"
    }
   ],
   "source": [
    "var.test(df$hours.per.week[df$sex == ' Female'], df$hours.per.week[df$sex ==  ' Male'])\n",
    "var.test(df$hours.per.week[df$Y == ' <=50K'], df$hours.per.week[df$Y  !=  ' <=50K'])"
   ]
  },
  {
   "cell_type": "markdown",
   "id": "c1372505-44c5-43f3-9b6c-c4bf61da1471",
   "metadata": {},
   "source": [
    "p-value = 0.002041 Between Male and Female in terms of hours per week hence true ratio of variances is notequal to 1\n",
    "\n",
    "\n",
    "p-value < 2.2e-16 <=50k hence true ratio of variances is not equal to 1"
   ]
  },
  {
   "cell_type": "markdown",
   "id": "0508e79b-8124-4051-abb9-eb78ce16a838",
   "metadata": {},
   "source": [
    "LETS NOW PERFOM THE T-TEST"
   ]
  },
  {
   "cell_type": "code",
   "execution_count": 11,
   "id": "3ca55ca5-4dbf-46ab-9765-8478d62fff54",
   "metadata": {},
   "outputs": [
    {
     "data": {
      "text/plain": [
       "\n",
       "\tWelch Two Sample t-test\n",
       "\n",
       "data:  df$hours.per.week by df$sex\n",
       "t = -42.882, df = 21958, p-value < 2.2e-16\n",
       "alternative hypothesis: true difference in means between group  Female and group  Male is not equal to 0\n",
       "95 percent confidence interval:\n",
       " -6.292787 -5.742664\n",
       "sample estimates:\n",
       "mean in group  Female   mean in group  Male \n",
       "             36.41036              42.42809 \n"
      ]
     },
     "metadata": {},
     "output_type": "display_data"
    }
   ],
   "source": [
    "t.test(df$hours.per.week~df$sex, paired = FALSE, var.equal=FALSE)"
   ]
  },
  {
   "cell_type": "markdown",
   "id": "810d16a3-0345-4433-a3f6-37cb4d812bd3",
   "metadata": {},
   "source": [
    "p-value < 2.2e-16\n",
    "\n",
    "\n",
    "alternative hypothesis: true difference in means between group \n",
    "\n",
    "\n",
    "Female and group  Male is not equal to 0"
   ]
  },
  {
   "cell_type": "code",
   "execution_count": 12,
   "id": "d1e32876-d47a-4c72-92da-4ab3562585b4",
   "metadata": {},
   "outputs": [
    {
     "data": {
      "text/plain": [
       "\n",
       "\tWelch Two Sample t-test\n",
       "\n",
       "data:  df$hours.per.week by df$Y\n",
       "t = -45.123, df = 14570, p-value < 2.2e-16\n",
       "alternative hypothesis: true difference in means between group  <=50K and group  >50K is not equal to 0\n",
       "95 percent confidence interval:\n",
       " -6.920943 -6.344690\n",
       "sample estimates:\n",
       "mean in group  <=50K  mean in group  >50K \n",
       "            38.84021             45.47303 \n"
      ]
     },
     "metadata": {},
     "output_type": "display_data"
    }
   ],
   "source": [
    "t.test(df$hours.per.week~df$Y, paired = FALSE, var.equal=FALSE)"
   ]
  },
  {
   "cell_type": "markdown",
   "id": "e5c14040-d8ef-487f-b303-16f3ff3118b4",
   "metadata": {},
   "source": [
    "p-value < 2.2e-16\n",
    "\n",
    "\n",
    "alternative hypothesis: true difference in means between group  <=50K and group  >50K is not equal to 0"
   ]
  },
  {
   "cell_type": "markdown",
   "id": "d890bd98-37cb-4a03-925e-168e65df702c",
   "metadata": {},
   "source": [
    "---------------------------------------------------------------END--------------------------------------------------------------"
   ]
  },
  {
   "cell_type": "markdown",
   "id": "32c322a4-118c-417d-bb06-96ccc0d3149b",
   "metadata": {},
   "source": [
    "EXAMINE TO SEE WETHER EDUCATIONAL CLASSES ARE SIGNIFICANTLT DIFFERENT ACROSS DIFERENT WORK CLASSES\n",
    "\n",
    "ALSO REPORT WHICH CLASS HAVE EDUCATIONAL LEVELS SIGNIFICANTLY HIGHER OR LOWER IN COMPARISON TO OTHERS USING AN ADDITIONAL TEST"
   ]
  },
  {
   "cell_type": "markdown",
   "id": "8008af87-61e1-4ee0-b8d4-bba0320787b6",
   "metadata": {},
   "source": [
    "USE THE ANOVA T TEST"
   ]
  },
  {
   "cell_type": "code",
   "execution_count": 13,
   "id": "a017a9ed-91a8-43cb-8662-060f4e5fef05",
   "metadata": {},
   "outputs": [
    {
     "data": {
      "text/html": [
       "<table class=\"dataframe\">\n",
       "<caption>A data.frame: 2 × 15</caption>\n",
       "<thead>\n",
       "\t<tr><th></th><th scope=col>age</th><th scope=col>workclass</th><th scope=col>fnlwgt</th><th scope=col>education</th><th scope=col>education.num</th><th scope=col>marital.status</th><th scope=col>occupation</th><th scope=col>relationship</th><th scope=col>race</th><th scope=col>sex</th><th scope=col>capital.gain</th><th scope=col>capital.loss</th><th scope=col>hours.per.week</th><th scope=col>native.country</th><th scope=col>Y</th></tr>\n",
       "\t<tr><th></th><th scope=col>&lt;int&gt;</th><th scope=col>&lt;chr&gt;</th><th scope=col>&lt;int&gt;</th><th scope=col>&lt;chr&gt;</th><th scope=col>&lt;int&gt;</th><th scope=col>&lt;chr&gt;</th><th scope=col>&lt;chr&gt;</th><th scope=col>&lt;chr&gt;</th><th scope=col>&lt;chr&gt;</th><th scope=col>&lt;chr&gt;</th><th scope=col>&lt;int&gt;</th><th scope=col>&lt;int&gt;</th><th scope=col>&lt;int&gt;</th><th scope=col>&lt;chr&gt;</th><th scope=col>&lt;chr&gt;</th></tr>\n",
       "</thead>\n",
       "<tbody>\n",
       "\t<tr><th scope=row>1</th><td>39</td><td><span style=white-space:pre-wrap> State-gov       </span></td><td>77516</td><td> Bachelors</td><td>13</td><td><span style=white-space:pre-wrap> Never-married     </span></td><td><span style=white-space:pre-wrap> Adm-clerical   </span></td><td> Not-in-family</td><td> White</td><td> Male</td><td>2174</td><td>0</td><td>40</td><td> United-States</td><td> &lt;=50K</td></tr>\n",
       "\t<tr><th scope=row>2</th><td>50</td><td> Self-emp-not-inc</td><td>83311</td><td> Bachelors</td><td>13</td><td> Married-civ-spouse</td><td> Exec-managerial</td><td><span style=white-space:pre-wrap> Husband      </span></td><td> White</td><td> Male</td><td><span style=white-space:pre-wrap>   0</span></td><td>0</td><td>13</td><td> United-States</td><td> &lt;=50K</td></tr>\n",
       "</tbody>\n",
       "</table>\n"
      ],
      "text/latex": [
       "A data.frame: 2 × 15\n",
       "\\begin{tabular}{r|lllllllllllllll}\n",
       "  & age & workclass & fnlwgt & education & education.num & marital.status & occupation & relationship & race & sex & capital.gain & capital.loss & hours.per.week & native.country & Y\\\\\n",
       "  & <int> & <chr> & <int> & <chr> & <int> & <chr> & <chr> & <chr> & <chr> & <chr> & <int> & <int> & <int> & <chr> & <chr>\\\\\n",
       "\\hline\n",
       "\t1 & 39 &  State-gov        & 77516 &  Bachelors & 13 &  Never-married      &  Adm-clerical    &  Not-in-family &  White &  Male & 2174 & 0 & 40 &  United-States &  <=50K\\\\\n",
       "\t2 & 50 &  Self-emp-not-inc & 83311 &  Bachelors & 13 &  Married-civ-spouse &  Exec-managerial &  Husband       &  White &  Male &    0 & 0 & 13 &  United-States &  <=50K\\\\\n",
       "\\end{tabular}\n"
      ],
      "text/markdown": [
       "\n",
       "A data.frame: 2 × 15\n",
       "\n",
       "| <!--/--> | age &lt;int&gt; | workclass &lt;chr&gt; | fnlwgt &lt;int&gt; | education &lt;chr&gt; | education.num &lt;int&gt; | marital.status &lt;chr&gt; | occupation &lt;chr&gt; | relationship &lt;chr&gt; | race &lt;chr&gt; | sex &lt;chr&gt; | capital.gain &lt;int&gt; | capital.loss &lt;int&gt; | hours.per.week &lt;int&gt; | native.country &lt;chr&gt; | Y &lt;chr&gt; |\n",
       "|---|---|---|---|---|---|---|---|---|---|---|---|---|---|---|---|\n",
       "| 1 | 39 |  State-gov        | 77516 |  Bachelors | 13 |  Never-married      |  Adm-clerical    |  Not-in-family |  White |  Male | 2174 | 0 | 40 |  United-States |  &lt;=50K |\n",
       "| 2 | 50 |  Self-emp-not-inc | 83311 |  Bachelors | 13 |  Married-civ-spouse |  Exec-managerial |  Husband       |  White |  Male |    0 | 0 | 13 |  United-States |  &lt;=50K |\n",
       "\n"
      ],
      "text/plain": [
       "  age workclass         fnlwgt education  education.num marital.status     \n",
       "1 39   State-gov        77516   Bachelors 13             Never-married     \n",
       "2 50   Self-emp-not-inc 83311   Bachelors 13             Married-civ-spouse\n",
       "  occupation       relationship   race   sex   capital.gain capital.loss\n",
       "1  Adm-clerical     Not-in-family  White  Male 2174         0           \n",
       "2  Exec-managerial  Husband        White  Male    0         0           \n",
       "  hours.per.week native.country Y     \n",
       "1 40              United-States  <=50K\n",
       "2 13              United-States  <=50K"
      ]
     },
     "metadata": {},
     "output_type": "display_data"
    }
   ],
   "source": [
    "head(df,2)"
   ]
  },
  {
   "cell_type": "code",
   "execution_count": 14,
   "id": "09a9b7a5-dca0-463f-865c-0fe28d728835",
   "metadata": {},
   "outputs": [],
   "source": [
    "anova_model = aov(education.num~workclass, data=df )"
   ]
  },
  {
   "cell_type": "code",
   "execution_count": 15,
   "id": "658c5526-05be-42d0-a18e-cfd82fd7265e",
   "metadata": {},
   "outputs": [
    {
     "data": {
      "text/plain": [
       "               Df Sum Sq Mean Sq F value Pr(>F)    \n",
       "workclass       8   8393  1049.1   164.9 <2e-16 ***\n",
       "Residuals   32552 207118     6.4                   \n",
       "---\n",
       "Signif. codes:  0 '***' 0.001 '**' 0.01 '*' 0.05 '.' 0.1 ' ' 1"
      ]
     },
     "metadata": {},
     "output_type": "display_data"
    }
   ],
   "source": [
    "summary(anova_model)"
   ]
  },
  {
   "cell_type": "markdown",
   "id": "4ce7ccea-8d44-4b2e-a2d9-fb8960e73517",
   "metadata": {},
   "source": [
    "p value = <2e-16 *** meaning there are differences hence we use Turkey HSD to test which one are different"
   ]
  },
  {
   "cell_type": "code",
   "execution_count": 17,
   "id": "ea6f341f-40b6-474e-841b-9ae44ecbd361",
   "metadata": {},
   "outputs": [],
   "source": [
    "# Perform Tukey's HSD test\n",
    "tukey_result <- TukeyHSD(anova_model)"
   ]
  },
  {
   "cell_type": "code",
   "execution_count": 18,
   "id": "99805388-d0da-44a5-ab80-a506b36fd001",
   "metadata": {},
   "outputs": [
    {
     "name": "stdout",
     "output_type": "stream",
     "text": [
      "  Tukey multiple comparisons of means\n",
      "    95% family-wise confidence level\n",
      "\n",
      "Fit: aov(formula = education.num ~ workclass, data = df)\n",
      "\n",
      "$workclass\n",
      "                                       diff         lwr         upr     p adj\n",
      " Federal-gov- ?                  1.71360975  1.40199309  2.02522641 0.0000000\n",
      " Local-gov- ?                    1.78169633  1.53152122  2.03187144 0.0000000\n",
      " Never-worked- ?                -1.83177716 -4.79457041  1.13101609 0.6013740\n",
      " Private- ?                      0.61936590  0.42952949  0.80920231 0.0000000\n",
      " Self-emp-inc- ?                 1.87674819  1.57977737  2.17371901 0.0000000\n",
      " Self-emp-not-inc- ?             0.96594028  0.72629237  1.20558819 0.0000000\n",
      " State-gov- ?                    2.11561444  1.83188797  2.39934090 0.0000000\n",
      " Without-pay- ?                 -0.18892001 -2.28790603  1.91006600 0.9999989\n",
      " Local-gov- Federal-gov          0.06808658 -0.23689051  0.37306366 0.9988917\n",
      " Never-worked- Federal-gov      -3.54538690 -6.51330996 -0.57746385 0.0065588\n",
      " Private- Federal-gov           -1.09424385 -1.35204474 -0.83644295 0.0000000\n",
      " Self-emp-inc- Federal-gov       0.16313844 -0.18126700  0.50754388 0.8699445\n",
      " Self-emp-not-inc- Federal-gov  -0.74766947 -1.04407216 -0.45126678 0.0000000\n",
      " State-gov- Federal-gov          0.40200469  0.06895192  0.73505745 0.0056709\n",
      " Without-pay- Federal-gov       -1.90252976 -4.00875048  0.20369096 0.1146858\n",
      " Never-worked- Local-gov        -3.61347348 -6.57557576 -0.65137120 0.0048708\n",
      " Private- Local-gov             -1.16233042 -1.34105911 -0.98360174 0.0000000\n",
      " Self-emp-inc- Local-gov         0.09505186 -0.19494426  0.38504798 0.9844279\n",
      " Self-emp-not-inc- Local-gov    -0.81575605 -1.04670453 -0.58480757 0.0000000\n",
      " State-gov- Local-gov            0.33391811  0.05750033  0.61033589 0.0056054\n",
      " Without-pay- Local-gov         -1.97061634 -4.06862692  0.12739424 0.0854593\n",
      " Private- Never-worked           2.45114306 -0.50647426  5.40876038 0.1990172\n",
      " Self-emp-inc- Never-worked      3.70852535  0.74210427  6.67494642 0.0033812\n",
      " Self-emp-not-inc- Never-worked  2.79771743 -0.16351431  5.75894918 0.0815727\n",
      " State-gov- Never-worked         3.94739159  0.98226713  6.91251605 0.0012096\n",
      " Without-pay- Never-worked       1.64285714 -1.97891102  5.26462531 0.8955961\n",
      " Self-emp-inc- Private           1.25738229  1.01749059  1.49727398 0.0000000\n",
      " Self-emp-not-inc- Private       0.34657438  0.18290557  0.51024318 0.0000000\n",
      " State-gov- Private              1.49624853  1.27296157  1.71953549 0.0000000\n",
      " Without-pay- Private           -0.80828592 -2.89995957  1.28338773 0.9570429\n",
      " Self-emp-not-inc- Self-emp-inc -0.91080791 -1.19177282 -0.62984300 0.0000000\n",
      " State-gov- Self-emp-inc         0.23886625 -0.08052516  0.55825765 0.3299771\n",
      " Without-pay- Self-emp-inc      -2.06566820 -4.16977192  0.03843552 0.0590519\n",
      " State-gov- Self-emp-not-inc     1.14967416  0.88274660  1.41660172 0.0000000\n",
      " Without-pay- Self-emp-not-inc  -1.15486029 -3.25164161  0.94192103 0.7416260\n",
      " Without-pay- State-gov         -2.30453445 -4.40680976 -0.20225913 0.0194002\n",
      "\n"
     ]
    }
   ],
   "source": [
    "# Print the Tukey results\n",
    "print(tukey_result)"
   ]
  },
  {
   "cell_type": "code",
   "execution_count": 19,
   "id": "0946a0db-41df-4963-9686-02dd0be8d869",
   "metadata": {},
   "outputs": [
    {
     "data": {
      "image/png": "[encoded data removed]",
      "text/plain": [
       "Plot with title \"95% family-wise confidence level\n",
       "\""
      ]
     },
     "metadata": {
      "image/png": {
       "height": 420,
       "width": 420
      }
     },
     "output_type": "display_data"
    }
   ],
   "source": [
    "# Visualizing the Tukey HSD results\n",
    "plot(tukey_result, las = 2)"
   ]
  },
  {
   "cell_type": "code",
   "execution_count": 20,
   "id": "a1c4ce7a-5be9-4be3-a877-9671e27c334a",
   "metadata": {},
   "outputs": [
    {
     "data": {
      "image/png": "[encoded data removed]",
      "text/plain": [
       "plot without title"
      ]
     },
     "metadata": {
      "image/png": {
       "height": 420,
       "width": 420
      }
     },
     "output_type": "display_data"
    }
   ],
   "source": [
    "# Boxplot to visualize differences\n",
    "library(ggplot2)\n",
    "ggplot(df, aes(x = workclass, y = education.num )) +\n",
    "  geom_boxplot(fill = \"lightblue\", color = \"black\") +\n",
    "  geom_jitter(width = 0.2, alpha = 0.5, color = \"blue\") +\n",
    "  theme_minimal() +\n",
    "  labs(title = \"Education Levels in Different Working Class\", x = \"Work Class\", y = \"Education Number\")\n"
   ]
  },
  {
   "cell_type": "code",
   "execution_count": 21,
   "id": "f6c856da-7c01-4841-9081-ee3a641749a0",
   "metadata": {},
   "outputs": [
    {
     "data": {
      "text/plain": [
       "\n",
       "\tPairwise comparisons using t tests with pooled SD \n",
       "\n",
       "data:  df$education.num and df$workclass \n",
       "\n",
       "                   ?       Federal-gov  Local-gov  Never-worked  Private\n",
       " Federal-gov      < 2e-16 -            -          -             -       \n",
       " Local-gov        < 2e-16 1.0000       -          -             -       \n",
       " Never-worked     1.0000  0.0076       0.0056     -             -       \n",
       " Private          < 2e-16 < 2e-16      < 2e-16    0.3657        -       \n",
       " Self-emp-inc     < 2e-16 1.0000       1.0000     0.0038        < 2e-16 \n",
       " Self-emp-not-inc < 2e-16 1.9e-13      < 2e-16    0.1219        1.9e-09 \n",
       " State-gov        < 2e-16 0.0065       0.0065     0.0013        < 2e-16 \n",
       " Without-pay      1.0000  0.1831       0.1288     1.0000        1.0000  \n",
       "                   Self-emp-inc  Self-emp-not-inc  State-gov\n",
       " Federal-gov      -             -                 -         \n",
       " Local-gov        -             -                 -         \n",
       " Never-worked     -             -                 -         \n",
       " Private          -             -                 -         \n",
       " Self-emp-inc     -             -                 -         \n",
       " Self-emp-not-inc < 2e-16       -                 -         \n",
       " State-gov        0.7330        < 2e-16           -         \n",
       " Without-pay      0.0838        1.0000            0.0243    \n",
       "\n",
       "P value adjustment method: bonferroni "
      ]
     },
     "metadata": {},
     "output_type": "display_data"
    }
   ],
   "source": [
    "# Pairwise t-test with Bonferroni correction\n",
    "pairwise.t.test(df$education.num, df$workclass, p.adjust.method = \"bonferroni\")"
   ]
  },
  {
   "cell_type": "markdown",
   "id": "ce1af627-326b-4443-a01c-19958137a17a",
   "metadata": {},
   "source": [
    "CHISQUARE TEST"
   ]
  },
  {
   "cell_type": "markdown",
   "id": "116b275d-8342-4f48-be56-cbedc13fcf74",
   "metadata": {},
   "source": [
    "FIND IF THE INCOME RATE IS AFFECTED BY RACE : IS THERE A RELATIONSHIP BETWEEN INCOME LEVELS AND RACE"
   ]
  },
  {
   "cell_type": "code",
   "execution_count": 23,
   "id": "9a2ab9f8-b46e-4ac5-a408-feb029ffe907",
   "metadata": {},
   "outputs": [
    {
     "data": {
      "text/plain": [
       "\n",
       "\tPearson's Chi-squared test\n",
       "\n",
       "data:  df$race and df$Y\n",
       "X-squared = 330.92, df = 4, p-value < 2.2e-16\n"
      ]
     },
     "metadata": {},
     "output_type": "display_data"
    }
   ],
   "source": [
    "chisq.test(df$race, df$Y)"
   ]
  },
  {
   "cell_type": "markdown",
   "id": "b63cf95a-003e-4990-a41f-815f7873b7b4",
   "metadata": {},
   "source": [
    "p-value < 2.2e-16 Reject Null hypothesis Race does not affect the income level"
   ]
  },
  {
   "cell_type": "code",
   "execution_count": null,
   "id": "4d6a8856-81a9-47f2-ad39-f222aa871956",
   "metadata": {},
   "outputs": [],
   "source": []
  },
  {
   "cell_type": "code",
   "execution_count": null,
   "id": "a17f33e5-9ff1-4c73-b38e-26f0a82eb60e",
   "metadata": {},
   "outputs": [],
   "source": []
  },
  {
   "cell_type": "code",
   "execution_count": null,
   "id": "e319a00c-b34c-4b9c-8d7c-7688b2748846",
   "metadata": {},
   "outputs": [],
   "source": []
  },
  {
   "cell_type": "code",
   "execution_count": null,
   "id": "c688d5fd-ce4b-4ef1-b2b9-769adb978159",
   "metadata": {},
   "outputs": [],
   "source": []
  },
  {
   "cell_type": "code",
   "execution_count": null,
   "id": "d49cc505-8719-4f26-abd4-3f8a648b8de1",
   "metadata": {},
   "outputs": [],
   "source": []
  },
  {
   "cell_type": "code",
   "execution_count": null,
   "id": "4aa808b8-c103-452e-8936-2a9f9f8bff7c",
   "metadata": {},
   "outputs": [],
   "source": []
  },
  {
   "cell_type": "code",
   "execution_count": null,
   "id": "44b6a9fe-350d-44f8-b7f7-deae22aa2dc0",
   "metadata": {},
   "outputs": [],
   "source": []
  },
  {
   "cell_type": "code",
   "execution_count": null,
   "id": "0647b2e1-5c92-45a1-afa7-e9d31386d5c5",
   "metadata": {},
   "outputs": [],
   "source": []
  },
  {
   "cell_type": "code",
   "execution_count": null,
   "id": "dcfe31f9-7838-4b5b-809a-efaa90ab48bd",
   "metadata": {},
   "outputs": [],
   "source": []
  },
  {
   "cell_type": "code",
   "execution_count": null,
   "id": "b8d4a620-b4c1-4e69-b03b-4473de665474",
   "metadata": {},
   "outputs": [],
   "source": []
  },
  {
   "cell_type": "code",
   "execution_count": null,
   "id": "113b5df2-4969-467c-8934-d44abb228ad2",
   "metadata": {},
   "outputs": [],
   "source": []
  },
  {
   "cell_type": "code",
   "execution_count": null,
   "id": "d033c51d-dea1-404a-8798-d6113e483ce5",
   "metadata": {},
   "outputs": [],
   "source": []
  },
  {
   "cell_type": "code",
   "execution_count": null,
   "id": "02a88756-f8b5-4537-a847-70ccc4408040",
   "metadata": {},
   "outputs": [],
   "source": []
  },
  {
   "cell_type": "code",
   "execution_count": null,
   "id": "33751ac4-6b3c-43ad-91c3-bca0a033480c",
   "metadata": {},
   "outputs": [],
   "source": []
  },
  {
   "cell_type": "code",
   "execution_count": null,
   "id": "bed9f1b7-a6ce-4e17-b560-4a708912fdca",
   "metadata": {},
   "outputs": [],
   "source": []
  },
  {
   "cell_type": "code",
   "execution_count": null,
   "id": "66320a69-15a8-41dc-8be4-fa1dd0c84f1e",
   "metadata": {},
   "outputs": [],
   "source": []
  },
  {
   "cell_type": "code",
   "execution_count": null,
   "id": "23d7c541-50cf-497b-a80e-c4c85ecde8cb",
   "metadata": {},
   "outputs": [],
   "source": []
  },
  {
   "cell_type": "code",
   "execution_count": null,
   "id": "6ac6649f-3350-47df-8e36-5e1647105371",
   "metadata": {},
   "outputs": [],
   "source": []
  },
  {
   "cell_type": "code",
   "execution_count": null,
   "id": "55e93539-8e07-4ea6-b3ab-b255df2bd046",
   "metadata": {},
   "outputs": [],
   "source": []
  },
  {
   "cell_type": "code",
   "execution_count": null,
   "id": "a7d9ee7c-a7d3-4e84-a1a2-e855dbb0629f",
   "metadata": {},
   "outputs": [],
   "source": []
  },
  {
   "cell_type": "code",
   "execution_count": null,
   "id": "67b56235-4e74-414b-a887-71ae6078c4e9",
   "metadata": {},
   "outputs": [],
   "source": []
  },
  {
   "cell_type": "code",
   "execution_count": null,
   "id": "f8e0026c-8ffa-4ed9-ac54-4afe3ae8af7a",
   "metadata": {},
   "outputs": [],
   "source": []
  },
  {
   "cell_type": "code",
   "execution_count": null,
   "id": "50faf11b-920c-4026-8aa2-2da209b6d396",
   "metadata": {},
   "outputs": [],
   "source": []
  },
  {
   "cell_type": "code",
   "execution_count": null,
   "id": "00b4e9a3-b454-4885-b2d3-d6f3f0fce8a8",
   "metadata": {},
   "outputs": [],
   "source": []
  },
  {
   "cell_type": "code",
   "execution_count": null,
   "id": "a085c0ac-4fe1-40ce-940c-a3545c6eb174",
   "metadata": {},
   "outputs": [],
   "source": []
  },
  {
   "cell_type": "code",
   "execution_count": null,
   "id": "29919fdb-c0b9-4e01-b5f4-218692179c99",
   "metadata": {},
   "outputs": [],
   "source": []
  },
  {
   "cell_type": "code",
   "execution_count": null,
   "id": "ac2795b9-83c0-4617-93a9-f703515e5335",
   "metadata": {},
   "outputs": [],
   "source": []
  },
  {
   "cell_type": "code",
   "execution_count": null,
   "id": "b2a69cb5-f4ed-4cf3-92d8-893b8a9fcf5c",
   "metadata": {},
   "outputs": [],
   "source": []
  },
  {
   "cell_type": "code",
   "execution_count": null,
   "id": "ca7d9fd1-cb4e-4007-877a-16357727c420",
   "metadata": {},
   "outputs": [],
   "source": []
  },
  {
   "cell_type": "code",
   "execution_count": null,
   "id": "6340b332-6855-4cfd-93c6-1f2402306f71",
   "metadata": {},
   "outputs": [],
   "source": []
  },
  {
   "cell_type": "code",
   "execution_count": null,
   "id": "4ce8f63f-19a0-4da7-8a3e-ad4d938ef6c7",
   "metadata": {},
   "outputs": [],
   "source": []
  },
  {
   "cell_type": "code",
   "execution_count": null,
   "id": "7b3d6c00-0f19-45e6-a042-6940f30cccc4",
   "metadata": {},
   "outputs": [],
   "source": []
  },
  {
   "cell_type": "code",
   "execution_count": null,
   "id": "e464f522-7b67-4b93-8a19-e1b49cfe34d1",
   "metadata": {},
   "outputs": [],
   "source": []
  },
  {
   "cell_type": "code",
   "execution_count": null,
   "id": "451d597d-5302-46fe-9c32-c1ef63adb193",
   "metadata": {},
   "outputs": [],
   "source": []
  },
  {
   "cell_type": "code",
   "execution_count": null,
   "id": "be59572d-cc80-4d11-98ff-24646a6d5281",
   "metadata": {},
   "outputs": [],
   "source": []
  },
  {
   "cell_type": "code",
   "execution_count": null,
   "id": "53221ff4-537a-403d-bd1b-798ee382de9d",
   "metadata": {},
   "outputs": [],
   "source": []
  },
  {
   "cell_type": "code",
   "execution_count": null,
   "id": "00254bf7-3d9c-451b-b7b5-3b5b03950ae3",
   "metadata": {},
   "outputs": [],
   "source": []
  },
  {
   "cell_type": "code",
   "execution_count": null,
   "id": "4c9f629d-f576-43a9-9950-b8516da8c800",
   "metadata": {},
   "outputs": [],
   "source": []
  },
  {
   "cell_type": "code",
   "execution_count": null,
   "id": "2b2a2c46-c7a3-4810-b93f-4941753aec18",
   "metadata": {},
   "outputs": [],
   "source": []
  },
  {
   "cell_type": "code",
   "execution_count": null,
   "id": "8f25e37d-0ac4-455a-8415-f0480d1a8096",
   "metadata": {},
   "outputs": [],
   "source": []
  },
  {
   "cell_type": "code",
   "execution_count": null,
   "id": "6d31c00a-ea82-417e-a9e1-f25a8fd4d5ef",
   "metadata": {},
   "outputs": [],
   "source": []
  },
  {
   "cell_type": "code",
   "execution_count": null,
   "id": "f3f91739-d7a7-44b3-ade6-25c9f4df5e51",
   "metadata": {},
   "outputs": [],
   "source": []
  },
  {
   "cell_type": "code",
   "execution_count": null,
   "id": "00b5a878-14fc-4b96-8cbd-100af9b957a4",
   "metadata": {},
   "outputs": [],
   "source": []
  }
 ],
 "metadata": {
  "kernelspec": {
   "display_name": "R",
   "language": "R",
   "name": "ir"
  },
  "language_info": {
   "codemirror_mode": "r",
   "file_extension": ".r",
   "mimetype": "text/x-r-source",
   "name": "R",
   "pygments_lexer": "r",
   "version": "4.1.3"
  }
 },
 "nbformat": 4,
 "nbformat_minor": 5
}
