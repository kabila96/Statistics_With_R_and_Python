{
 "cells": [
  {
   "cell_type": "code",
   "execution_count": 1,
   "id": "2904c691-2ab5-49a2-985e-3ec7dc8b9fcb",
   "metadata": {},
   "outputs": [],
   "source": [
    "%matplotlib inline\n",
    "import pandas as pd\n",
    "import numpy as np\n",
    "import statistics\n",
    "import seaborn as sns\n",
    "import matplotlib.pyplot as plt\n",
    "from scipy import stats"
   ]
  },
  {
   "cell_type": "code",
   "execution_count": 3,
   "id": "dab07852-14d7-483b-9828-ab6bb297e9f9",
   "metadata": {},
   "outputs": [
    {
     "name": "stderr",
     "output_type": "stream",
     "text": [
      "C:\\Users\\User\\AppData\\Local\\Temp\\ipykernel_2524\\2630117391.py:1: DtypeWarning: Columns (4,24,28) have mixed types. Specify dtype option on import or set low_memory=False.\n",
      "  payroll = pd.read_csv(\"City_Payroll_data.csv\")\n"
     ]
    }
   ],
   "source": [
    "payroll = pd.read_csv(\"City_Payroll_data.csv\")"
   ]
  },
  {
   "cell_type": "code",
   "execution_count": 5,
   "id": "e34fd95b-671b-4afe-9772-c389b871dfe2",
   "metadata": {},
   "outputs": [
    {
     "data": {
      "text/html": [
       "<div>\n",
       "<style scoped>\n",
       "    .dataframe tbody tr th:only-of-type {\n",
       "        vertical-align: middle;\n",
       "    }\n",
       "\n",
       "    .dataframe tbody tr th {\n",
       "        vertical-align: top;\n",
       "    }\n",
       "\n",
       "    .dataframe thead th {\n",
       "        text-align: right;\n",
       "    }\n",
       "</style>\n",
       "<table border=\"1\" class=\"dataframe\">\n",
       "  <thead>\n",
       "    <tr style=\"text-align: right;\">\n",
       "      <th></th>\n",
       "      <th>Row ID</th>\n",
       "      <th>Year</th>\n",
       "      <th>Department Title</th>\n",
       "      <th>Payroll Department</th>\n",
       "      <th>Record Number</th>\n",
       "      <th>Job Class Title</th>\n",
       "      <th>Employment Type</th>\n",
       "      <th>Hourly or Event Rate</th>\n",
       "      <th>Projected Annual Salary</th>\n",
       "      <th>Q1 Payments</th>\n",
       "      <th>...</th>\n",
       "      <th>MOU Title</th>\n",
       "      <th>FMS Department</th>\n",
       "      <th>Job Class</th>\n",
       "      <th>Pay Grade</th>\n",
       "      <th>Average Health Cost</th>\n",
       "      <th>Average Dental Cost</th>\n",
       "      <th>Average Basic Life</th>\n",
       "      <th>Average Benefit Cost</th>\n",
       "      <th>Benefits Plan</th>\n",
       "      <th>Job Class Link</th>\n",
       "    </tr>\n",
       "  </thead>\n",
       "  <tbody>\n",
       "    <tr>\n",
       "      <th>0</th>\n",
       "      <td>111391</td>\n",
       "      <td>2014</td>\n",
       "      <td>Water And Power (DWP)</td>\n",
       "      <td>NaN</td>\n",
       "      <td>1412316577</td>\n",
       "      <td>Commercial Service Representative</td>\n",
       "      <td>Full Time</td>\n",
       "      <td>NaN</td>\n",
       "      <td>$70386.48</td>\n",
       "      <td>$16129.89</td>\n",
       "      <td>...</td>\n",
       "      <td>NaN</td>\n",
       "      <td>98</td>\n",
       "      <td>1230</td>\n",
       "      <td>NaN</td>\n",
       "      <td>$16842.08</td>\n",
       "      <td>$1282.61</td>\n",
       "      <td>$0.00</td>\n",
       "      <td>$18124.69</td>\n",
       "      <td>DWP</td>\n",
       "      <td>http://per.lacity.org/perspecs/1230.pdf</td>\n",
       "    </tr>\n",
       "    <tr>\n",
       "      <th>1</th>\n",
       "      <td>31732</td>\n",
       "      <td>2013</td>\n",
       "      <td>Police (LAPD)</td>\n",
       "      <td>4301.0</td>\n",
       "      <td>432728338</td>\n",
       "      <td>Police Officer I</td>\n",
       "      <td>Full Time</td>\n",
       "      <td>$25.12</td>\n",
       "      <td>$52450.56</td>\n",
       "      <td>$11331.00</td>\n",
       "      <td>...</td>\n",
       "      <td>POLICE OFFICERS UNIT</td>\n",
       "      <td>70</td>\n",
       "      <td>2214</td>\n",
       "      <td>A</td>\n",
       "      <td>$11651.40</td>\n",
       "      <td>$898.08</td>\n",
       "      <td>$191.04</td>\n",
       "      <td>$12740.52</td>\n",
       "      <td>Police</td>\n",
       "      <td>http://per.lacity.org/perspecs/2214.pdf</td>\n",
       "    </tr>\n",
       "    <tr>\n",
       "      <th>2</th>\n",
       "      <td>27697</td>\n",
       "      <td>2013</td>\n",
       "      <td>Police (LAPD)</td>\n",
       "      <td>4301.0</td>\n",
       "      <td>97182506</td>\n",
       "      <td>Police Officer II</td>\n",
       "      <td>Full Time</td>\n",
       "      <td>$42.77</td>\n",
       "      <td>$89303.76</td>\n",
       "      <td>$20036.32</td>\n",
       "      <td>...</td>\n",
       "      <td>POLICE OFFICERS UNIT</td>\n",
       "      <td>70</td>\n",
       "      <td>2214</td>\n",
       "      <td>2</td>\n",
       "      <td>$11651.40</td>\n",
       "      <td>$898.08</td>\n",
       "      <td>$191.04</td>\n",
       "      <td>$12740.52</td>\n",
       "      <td>Police</td>\n",
       "      <td>http://per.lacity.org/perspecs/2214.pdf</td>\n",
       "    </tr>\n",
       "    <tr>\n",
       "      <th>3</th>\n",
       "      <td>14136</td>\n",
       "      <td>2013</td>\n",
       "      <td>Harbor (Port of LA)</td>\n",
       "      <td>3201.0</td>\n",
       "      <td>950136941</td>\n",
       "      <td>Senior Security Officer</td>\n",
       "      <td>Full Time</td>\n",
       "      <td>$28.75</td>\n",
       "      <td>$60028.96</td>\n",
       "      <td>$15793.88</td>\n",
       "      <td>...</td>\n",
       "      <td>SUPV BLUE COLLAR</td>\n",
       "      <td>42</td>\n",
       "      <td>3184</td>\n",
       "      <td>0</td>\n",
       "      <td>$10710.24</td>\n",
       "      <td>$405.24</td>\n",
       "      <td>$11.40</td>\n",
       "      <td>$11126.88</td>\n",
       "      <td>City</td>\n",
       "      <td>http://per.lacity.org/perspecs/3184.pdf</td>\n",
       "    </tr>\n",
       "    <tr>\n",
       "      <th>4</th>\n",
       "      <td>91896</td>\n",
       "      <td>2014</td>\n",
       "      <td>Public Works - Sanitation</td>\n",
       "      <td>7024.0</td>\n",
       "      <td>3230003445</td>\n",
       "      <td>Senior Clerk Typist</td>\n",
       "      <td>Full Time</td>\n",
       "      <td>$30.92</td>\n",
       "      <td>$64553.13</td>\n",
       "      <td>$14700.00</td>\n",
       "      <td>...</td>\n",
       "      <td>CLERICAL UNIT</td>\n",
       "      <td>82</td>\n",
       "      <td>1368</td>\n",
       "      <td>0</td>\n",
       "      <td>$11000.40</td>\n",
       "      <td>$409.68</td>\n",
       "      <td>$11.40</td>\n",
       "      <td>$11421.48</td>\n",
       "      <td>City</td>\n",
       "      <td>http://per.lacity.org/perspecs/1368.pdf</td>\n",
       "    </tr>\n",
       "  </tbody>\n",
       "</table>\n",
       "<p>5 rows × 35 columns</p>\n",
       "</div>"
      ],
      "text/plain": [
       "   Row ID  Year           Department Title  Payroll Department Record Number  \\\n",
       "0  111391  2014      Water And Power (DWP)                 NaN    1412316577   \n",
       "1   31732  2013              Police (LAPD)              4301.0     432728338   \n",
       "2   27697  2013              Police (LAPD)              4301.0      97182506   \n",
       "3   14136  2013        Harbor (Port of LA)              3201.0     950136941   \n",
       "4   91896  2014  Public Works - Sanitation              7024.0    3230003445   \n",
       "\n",
       "                     Job Class Title Employment Type Hourly or Event Rate  \\\n",
       "0  Commercial Service Representative       Full Time                  NaN   \n",
       "1                   Police Officer I       Full Time               $25.12   \n",
       "2                  Police Officer II       Full Time               $42.77   \n",
       "3            Senior Security Officer       Full Time               $28.75   \n",
       "4                Senior Clerk Typist       Full Time               $30.92   \n",
       "\n",
       "  Projected Annual Salary Q1 Payments  ...             MOU Title  \\\n",
       "0               $70386.48   $16129.89  ...                   NaN   \n",
       "1               $52450.56   $11331.00  ...  POLICE OFFICERS UNIT   \n",
       "2               $89303.76   $20036.32  ...  POLICE OFFICERS UNIT   \n",
       "3               $60028.96   $15793.88  ...      SUPV BLUE COLLAR   \n",
       "4               $64553.13   $14700.00  ...         CLERICAL UNIT   \n",
       "\n",
       "  FMS Department Job Class Pay Grade Average Health Cost Average Dental Cost  \\\n",
       "0             98      1230       NaN           $16842.08            $1282.61   \n",
       "1             70      2214         A           $11651.40             $898.08   \n",
       "2             70      2214         2           $11651.40             $898.08   \n",
       "3             42      3184         0           $10710.24             $405.24   \n",
       "4             82      1368         0           $11000.40             $409.68   \n",
       "\n",
       "  Average Basic Life Average Benefit Cost Benefits Plan  \\\n",
       "0              $0.00            $18124.69           DWP   \n",
       "1            $191.04            $12740.52        Police   \n",
       "2            $191.04            $12740.52        Police   \n",
       "3             $11.40            $11126.88          City   \n",
       "4             $11.40            $11421.48          City   \n",
       "\n",
       "                            Job Class Link  \n",
       "0  http://per.lacity.org/perspecs/1230.pdf  \n",
       "1  http://per.lacity.org/perspecs/2214.pdf  \n",
       "2  http://per.lacity.org/perspecs/2214.pdf  \n",
       "3  http://per.lacity.org/perspecs/3184.pdf  \n",
       "4  http://per.lacity.org/perspecs/1368.pdf  \n",
       "\n",
       "[5 rows x 35 columns]"
      ]
     },
     "execution_count": 5,
     "metadata": {},
     "output_type": "execute_result"
    }
   ],
   "source": [
    "payroll.head()"
   ]
  },
  {
   "cell_type": "code",
   "execution_count": 7,
   "id": "bd1b6deb-6a08-494a-acc9-c3314cbdca81",
   "metadata": {},
   "outputs": [
    {
     "name": "stdout",
     "output_type": "stream",
     "text": [
      "<class 'pandas.core.frame.DataFrame'>\n",
      "RangeIndex: 285008 entries, 0 to 285007\n",
      "Data columns (total 35 columns):\n",
      " #   Column                        Non-Null Count   Dtype  \n",
      "---  ------                        --------------   -----  \n",
      " 0   Row ID                        285008 non-null  int64  \n",
      " 1   Year                          285008 non-null  int64  \n",
      " 2   Department Title              285008 non-null  object \n",
      " 3   Payroll Department            231463 non-null  float64\n",
      " 4   Record Number                 285008 non-null  object \n",
      " 5   Job Class Title               285008 non-null  object \n",
      " 6   Employment Type               285008 non-null  object \n",
      " 7   Hourly or Event Rate          263987 non-null  object \n",
      " 8   Projected Annual Salary       285008 non-null  object \n",
      " 9   Q1 Payments                   285008 non-null  object \n",
      " 10  Q2 Payments                   285008 non-null  object \n",
      " 11  Q3 Payments                   285008 non-null  object \n",
      " 12  Q4 Payments                   285008 non-null  object \n",
      " 13  Payments Over Base Pay        285008 non-null  object \n",
      " 14  % Over Base Pay               285008 non-null  object \n",
      " 15  Total Payments                285008 non-null  object \n",
      " 16  Base Pay                      285008 non-null  object \n",
      " 17  Permanent Bonus Pay           285008 non-null  object \n",
      " 18  Longevity Bonus Pay           285008 non-null  object \n",
      " 19  Temporary Bonus Pay           285008 non-null  object \n",
      " 20  Lump Sum Pay                  242744 non-null  object \n",
      " 21  Overtime Pay                  284574 non-null  object \n",
      " 22  Other Pay & Adjustments       285008 non-null  object \n",
      " 23  Other Pay (Payroll Explorer)  285008 non-null  object \n",
      " 24  MOU                           263987 non-null  object \n",
      " 25  MOU Title                     263987 non-null  object \n",
      " 26  FMS Department                285008 non-null  int64  \n",
      " 27  Job Class                     285008 non-null  int64  \n",
      " 28  Pay Grade                     187905 non-null  object \n",
      " 29  Average Health Cost           285008 non-null  object \n",
      " 30  Average Dental Cost           285008 non-null  object \n",
      " 31  Average Basic Life            285008 non-null  object \n",
      " 32  Average Benefit Cost          285008 non-null  object \n",
      " 33  Benefits Plan                 245926 non-null  object \n",
      " 34  Job Class Link                285008 non-null  object \n",
      "dtypes: float64(1), int64(4), object(30)\n",
      "memory usage: 76.1+ MB\n"
     ]
    }
   ],
   "source": [
    "payroll.info()"
   ]
  },
  {
   "cell_type": "code",
   "execution_count": 11,
   "id": "0dc223c7-9a52-47ea-a237-16e12e71c60c",
   "metadata": {},
   "outputs": [
    {
     "data": {
      "text/plain": [
       "Row ID                              0\n",
       "Year                                0\n",
       "Department Title                    0\n",
       "Payroll Department              53545\n",
       "Record Number                       0\n",
       "Job Class Title                     0\n",
       "Employment Type                     0\n",
       "Hourly or Event Rate            21021\n",
       "Projected Annual Salary             0\n",
       "Q1 Payments                         0\n",
       "Q2 Payments                         0\n",
       "Q3 Payments                         0\n",
       "Q4 Payments                         0\n",
       "Payments Over Base Pay              0\n",
       "% Over Base Pay                     0\n",
       "Total Payments                      0\n",
       "Base Pay                            0\n",
       "Permanent Bonus Pay                 0\n",
       "Longevity Bonus Pay                 0\n",
       "Temporary Bonus Pay                 0\n",
       "Lump Sum Pay                    42264\n",
       "Overtime Pay                      434\n",
       "Other Pay & Adjustments             0\n",
       "Other Pay (Payroll Explorer)        0\n",
       "MOU                             21021\n",
       "MOU Title                       21021\n",
       "FMS Department                      0\n",
       "Job Class                           0\n",
       "Pay Grade                       97103\n",
       "Average Health Cost                 0\n",
       "Average Dental Cost                 0\n",
       "Average Basic Life                  0\n",
       "Average Benefit Cost                0\n",
       "Benefits Plan                   39082\n",
       "Job Class Link                      0\n",
       "dtype: int64"
      ]
     },
     "execution_count": 11,
     "metadata": {},
     "output_type": "execute_result"
    }
   ],
   "source": [
    "payroll.isnull().sum()"
   ]
  },
  {
   "cell_type": "code",
   "execution_count": 13,
   "id": "f9585311-3c4a-456a-aa45-97896279dc73",
   "metadata": {},
   "outputs": [
    {
     "data": {
      "text/html": [
       "<div>\n",
       "<style scoped>\n",
       "    .dataframe tbody tr th:only-of-type {\n",
       "        vertical-align: middle;\n",
       "    }\n",
       "\n",
       "    .dataframe tbody tr th {\n",
       "        vertical-align: top;\n",
       "    }\n",
       "\n",
       "    .dataframe thead th {\n",
       "        text-align: right;\n",
       "    }\n",
       "</style>\n",
       "<table border=\"1\" class=\"dataframe\">\n",
       "  <thead>\n",
       "    <tr style=\"text-align: right;\">\n",
       "      <th></th>\n",
       "      <th>Row ID</th>\n",
       "      <th>Year</th>\n",
       "      <th>Payroll Department</th>\n",
       "      <th>FMS Department</th>\n",
       "      <th>Job Class</th>\n",
       "    </tr>\n",
       "  </thead>\n",
       "  <tbody>\n",
       "    <tr>\n",
       "      <th>count</th>\n",
       "      <td>285008.000000</td>\n",
       "      <td>285008.000000</td>\n",
       "      <td>231463.000000</td>\n",
       "      <td>285008.000000</td>\n",
       "      <td>285008.000000</td>\n",
       "    </tr>\n",
       "    <tr>\n",
       "      <th>mean</th>\n",
       "      <td>142544.329759</td>\n",
       "      <td>2014.786701</td>\n",
       "      <td>4557.472067</td>\n",
       "      <td>66.271340</td>\n",
       "      <td>3051.039967</td>\n",
       "    </tr>\n",
       "    <tr>\n",
       "      <th>std</th>\n",
       "      <td>82330.135857</td>\n",
       "      <td>1.161369</td>\n",
       "      <td>2508.764234</td>\n",
       "      <td>29.304236</td>\n",
       "      <td>2038.694130</td>\n",
       "    </tr>\n",
       "    <tr>\n",
       "      <th>min</th>\n",
       "      <td>1.000000</td>\n",
       "      <td>2013.000000</td>\n",
       "      <td>101.000000</td>\n",
       "      <td>2.000000</td>\n",
       "      <td>1.000000</td>\n",
       "    </tr>\n",
       "    <tr>\n",
       "      <th>25%</th>\n",
       "      <td>71252.750000</td>\n",
       "      <td>2014.000000</td>\n",
       "      <td>3001.000000</td>\n",
       "      <td>42.000000</td>\n",
       "      <td>1960.000000</td>\n",
       "    </tr>\n",
       "    <tr>\n",
       "      <th>50%</th>\n",
       "      <td>142504.500000</td>\n",
       "      <td>2015.000000</td>\n",
       "      <td>4301.000000</td>\n",
       "      <td>70.000000</td>\n",
       "      <td>2234.000000</td>\n",
       "    </tr>\n",
       "    <tr>\n",
       "      <th>75%</th>\n",
       "      <td>213756.250000</td>\n",
       "      <td>2016.000000</td>\n",
       "      <td>7031.000000</td>\n",
       "      <td>88.000000</td>\n",
       "      <td>3580.000000</td>\n",
       "    </tr>\n",
       "    <tr>\n",
       "      <th>max</th>\n",
       "      <td>285208.000000</td>\n",
       "      <td>2016.000000</td>\n",
       "      <td>8702.000000</td>\n",
       "      <td>98.000000</td>\n",
       "      <td>9998.000000</td>\n",
       "    </tr>\n",
       "  </tbody>\n",
       "</table>\n",
       "</div>"
      ],
      "text/plain": [
       "              Row ID           Year  Payroll Department  FMS Department  \\\n",
       "count  285008.000000  285008.000000       231463.000000   285008.000000   \n",
       "mean   142544.329759    2014.786701         4557.472067       66.271340   \n",
       "std     82330.135857       1.161369         2508.764234       29.304236   \n",
       "min         1.000000    2013.000000          101.000000        2.000000   \n",
       "25%     71252.750000    2014.000000         3001.000000       42.000000   \n",
       "50%    142504.500000    2015.000000         4301.000000       70.000000   \n",
       "75%    213756.250000    2016.000000         7031.000000       88.000000   \n",
       "max    285208.000000    2016.000000         8702.000000       98.000000   \n",
       "\n",
       "           Job Class  \n",
       "count  285008.000000  \n",
       "mean     3051.039967  \n",
       "std      2038.694130  \n",
       "min         1.000000  \n",
       "25%      1960.000000  \n",
       "50%      2234.000000  \n",
       "75%      3580.000000  \n",
       "max      9998.000000  "
      ]
     },
     "execution_count": 13,
     "metadata": {},
     "output_type": "execute_result"
    }
   ],
   "source": [
    "payroll.describe()"
   ]
  },
  {
   "cell_type": "code",
   "execution_count": 15,
   "id": "e1cb7690-d023-452a-acbe-e9d4ee5d2dd4",
   "metadata": {},
   "outputs": [
    {
     "data": {
      "text/plain": [
       "Index(['Row ID', 'Year', 'Department Title', 'Payroll Department',\n",
       "       'Record Number', 'Job Class Title', 'Employment Type',\n",
       "       'Hourly or Event Rate', 'Projected Annual Salary', 'Q1 Payments',\n",
       "       'Q2 Payments', 'Q3 Payments', 'Q4 Payments', 'Payments Over Base Pay',\n",
       "       '% Over Base Pay', 'Total Payments', 'Base Pay', 'Permanent Bonus Pay',\n",
       "       'Longevity Bonus Pay', 'Temporary Bonus Pay', 'Lump Sum Pay',\n",
       "       'Overtime Pay', 'Other Pay & Adjustments',\n",
       "       'Other Pay (Payroll Explorer)', 'MOU', 'MOU Title', 'FMS Department',\n",
       "       'Job Class', 'Pay Grade', 'Average Health Cost', 'Average Dental Cost',\n",
       "       'Average Basic Life', 'Average Benefit Cost', 'Benefits Plan',\n",
       "       'Job Class Link'],\n",
       "      dtype='object')"
      ]
     },
     "execution_count": 15,
     "metadata": {},
     "output_type": "execute_result"
    }
   ],
   "source": [
    "payroll.columns"
   ]
  },
  {
   "cell_type": "code",
   "execution_count": 17,
   "id": "d1c7bbb6-94b6-4ba9-9fdd-266aecd97312",
   "metadata": {},
   "outputs": [],
   "source": [
    "payroll = payroll[pd.notnull(payroll['Payroll Department'])] #Getting those wothout null values\n",
    "payroll.rename(columns={'Projected Annual Salary' : 'Annual_sal'}, inplace = True)\n",
    "payroll.rename(columns={'Job Class Title' : 'Job_title'}, inplace = True)\n",
    "payroll.rename(columns={'Base Pay' : 'Base_Pay'}, inplace = True)"
   ]
  },
  {
   "cell_type": "code",
   "execution_count": 19,
   "id": "25b20a3c-b368-47e9-8751-f2721368979f",
   "metadata": {},
   "outputs": [],
   "source": [
    "for i in ['Annual_sal','Q1 Payments','Q2 Payments','Q3 Payments','Q4 Payments','Payments Over Base Pay',\n",
    "          'Total Payments','Base_Pay','Permanent Bonus Pay','Longevity Bonus Pay','Temporary Bonus Pay','Overtime Pay',\n",
    "          'Other Pay & Adjustments','Other Pay (Payroll Explorer)','Average Health Cost','Average Dental Cost',\n",
    "          'Average Basic Life','Average Benefit Cost']:\n",
    "    payroll[i]= payroll[i].str.replace('$','')"
   ]
  },
  {
   "cell_type": "code",
   "execution_count": 21,
   "id": "99644e40-3762-42c9-b052-225d57a6db62",
   "metadata": {},
   "outputs": [],
   "source": [
    "payroll = payroll[payroll.Annual_sal !=0]\n",
    "payroll = payroll[payroll.Base_Pay !=0]\n",
    "payroll.Annual_sal = payroll.Annual_sal.astype(float)\n",
    "payroll.Base_Pay = payroll.Base_Pay.astype(float)"
   ]
  },
  {
   "cell_type": "code",
   "execution_count": 23,
   "id": "f1d4c59d-9ed6-4d5d-a281-e32d488d19ea",
   "metadata": {},
   "outputs": [
    {
     "data": {
      "text/html": [
       "<div>\n",
       "<style scoped>\n",
       "    .dataframe tbody tr th:only-of-type {\n",
       "        vertical-align: middle;\n",
       "    }\n",
       "\n",
       "    .dataframe tbody tr th {\n",
       "        vertical-align: top;\n",
       "    }\n",
       "\n",
       "    .dataframe thead th {\n",
       "        text-align: right;\n",
       "    }\n",
       "</style>\n",
       "<table border=\"1\" class=\"dataframe\">\n",
       "  <thead>\n",
       "    <tr style=\"text-align: right;\">\n",
       "      <th></th>\n",
       "      <th>Row ID</th>\n",
       "      <th>Year</th>\n",
       "      <th>Payroll Department</th>\n",
       "      <th>Annual_sal</th>\n",
       "      <th>Base_Pay</th>\n",
       "      <th>FMS Department</th>\n",
       "      <th>Job Class</th>\n",
       "    </tr>\n",
       "  </thead>\n",
       "  <tbody>\n",
       "    <tr>\n",
       "      <th>count</th>\n",
       "      <td>231463.000000</td>\n",
       "      <td>231463.000000</td>\n",
       "      <td>231463.000000</td>\n",
       "      <td>231463.000000</td>\n",
       "      <td>231463.000000</td>\n",
       "      <td>231463.000000</td>\n",
       "      <td>231463.000000</td>\n",
       "    </tr>\n",
       "    <tr>\n",
       "      <th>mean</th>\n",
       "      <td>136806.647516</td>\n",
       "      <td>2014.779965</td>\n",
       "      <td>4557.472067</td>\n",
       "      <td>77030.493381</td>\n",
       "      <td>49660.756674</td>\n",
       "      <td>58.931458</td>\n",
       "      <td>2875.271482</td>\n",
       "    </tr>\n",
       "    <tr>\n",
       "      <th>std</th>\n",
       "      <td>81747.284006</td>\n",
       "      <td>1.162597</td>\n",
       "      <td>2508.764234</td>\n",
       "      <td>33504.859690</td>\n",
       "      <td>37578.417845</td>\n",
       "      <td>27.760291</td>\n",
       "      <td>1926.587256</td>\n",
       "    </tr>\n",
       "    <tr>\n",
       "      <th>min</th>\n",
       "      <td>1.000000</td>\n",
       "      <td>2013.000000</td>\n",
       "      <td>101.000000</td>\n",
       "      <td>0.000000</td>\n",
       "      <td>-878.700000</td>\n",
       "      <td>2.000000</td>\n",
       "      <td>1.000000</td>\n",
       "    </tr>\n",
       "    <tr>\n",
       "      <th>25%</th>\n",
       "      <td>68151.500000</td>\n",
       "      <td>2014.000000</td>\n",
       "      <td>3001.000000</td>\n",
       "      <td>52325.280000</td>\n",
       "      <td>17354.400000</td>\n",
       "      <td>38.000000</td>\n",
       "      <td>2112.000000</td>\n",
       "    </tr>\n",
       "    <tr>\n",
       "      <th>50%</th>\n",
       "      <td>136753.000000</td>\n",
       "      <td>2015.000000</td>\n",
       "      <td>4301.000000</td>\n",
       "      <td>76123.260000</td>\n",
       "      <td>44148.850000</td>\n",
       "      <td>70.000000</td>\n",
       "      <td>2223.000000</td>\n",
       "    </tr>\n",
       "    <tr>\n",
       "      <th>75%</th>\n",
       "      <td>205698.500000</td>\n",
       "      <td>2016.000000</td>\n",
       "      <td>7031.000000</td>\n",
       "      <td>98365.680000</td>\n",
       "      <td>82211.830000</td>\n",
       "      <td>82.000000</td>\n",
       "      <td>3211.000000</td>\n",
       "    </tr>\n",
       "    <tr>\n",
       "      <th>max</th>\n",
       "      <td>274361.000000</td>\n",
       "      <td>2016.000000</td>\n",
       "      <td>8702.000000</td>\n",
       "      <td>360743.760000</td>\n",
       "      <td>359361.600000</td>\n",
       "      <td>94.000000</td>\n",
       "      <td>9807.000000</td>\n",
       "    </tr>\n",
       "  </tbody>\n",
       "</table>\n",
       "</div>"
      ],
      "text/plain": [
       "              Row ID           Year  Payroll Department     Annual_sal  \\\n",
       "count  231463.000000  231463.000000       231463.000000  231463.000000   \n",
       "mean   136806.647516    2014.779965         4557.472067   77030.493381   \n",
       "std     81747.284006       1.162597         2508.764234   33504.859690   \n",
       "min         1.000000    2013.000000          101.000000       0.000000   \n",
       "25%     68151.500000    2014.000000         3001.000000   52325.280000   \n",
       "50%    136753.000000    2015.000000         4301.000000   76123.260000   \n",
       "75%    205698.500000    2016.000000         7031.000000   98365.680000   \n",
       "max    274361.000000    2016.000000         8702.000000  360743.760000   \n",
       "\n",
       "            Base_Pay  FMS Department      Job Class  \n",
       "count  231463.000000   231463.000000  231463.000000  \n",
       "mean    49660.756674       58.931458    2875.271482  \n",
       "std     37578.417845       27.760291    1926.587256  \n",
       "min      -878.700000        2.000000       1.000000  \n",
       "25%     17354.400000       38.000000    2112.000000  \n",
       "50%     44148.850000       70.000000    2223.000000  \n",
       "75%     82211.830000       82.000000    3211.000000  \n",
       "max    359361.600000       94.000000    9807.000000  "
      ]
     },
     "execution_count": 23,
     "metadata": {},
     "output_type": "execute_result"
    }
   ],
   "source": [
    "payroll.describe()"
   ]
  },
  {
   "cell_type": "code",
   "execution_count": 27,
   "id": "78ad61b1-a830-4a27-896a-c13a0588d408",
   "metadata": {},
   "outputs": [
    {
     "data": {
      "text/plain": [
       "<Axes: xlabel='Annual_sal', ylabel='Count'>"
      ]
     },
     "execution_count": 27,
     "metadata": {},
     "output_type": "execute_result"
    },
    {
     "data": {
      "image/png": "[encoded data removed]",
      "text/plain": [
       "<Figure size 1200x600 with 1 Axes>"
      ]
     },
     "metadata": {},
     "output_type": "display_data"
    }
   ],
   "source": [
    "plt.figure(figsize=(12,6))\n",
    "sns.histplot(payroll.Annual_sal, color='green')"
   ]
  },
  {
   "cell_type": "markdown",
   "id": "7d0eb305-b908-4fe5-8f0e-39a7ad381afb",
   "metadata": {},
   "source": [
    "### CREATING DIFERENT SAMPLES FROM POPULATION"
   ]
  },
  {
   "cell_type": "code",
   "execution_count": 31,
   "id": "bcc5fbb1-b9ea-4033-ac5a-d6a53e743a66",
   "metadata": {},
   "outputs": [],
   "source": [
    "payroll_2015 = payroll[payroll.Year ==2015]\n",
    "payroll_2016 = payroll[payroll.Year ==2016]\n",
    "payroll_2015_sample = payroll_2015.sample(n=2500)\n",
    "payroll_2016_sample = payroll_2016.sample(n = 2500)\n",
    "payroll_2014 = payroll[payroll.Year ==2014]\n",
    "payroll_2014_sample = payroll_2014.sample(n = 2500)"
   ]
  },
  {
   "cell_type": "markdown",
   "id": "6d80f26d-a5eb-45e9-bad3-bdfa95ec84c7",
   "metadata": {},
   "source": [
    "## **Calculating the Population Parameters**"
   ]
  },
  {
   "cell_type": "code",
   "execution_count": 46,
   "id": "172d4b74-d31f-458f-875f-f77c54502002",
   "metadata": {},
   "outputs": [
    {
     "name": "stdout",
     "output_type": "stream",
     "text": [
      "Population Mean 2014: 77318.90544252573\n",
      "Population Standard Deviation 2014: 33173.322294894715\n",
      "Sample Mean 2014: 76416.22532800001\n",
      "Population Mean 2015: 76046.39152504776\n",
      "Population Standard Deviation 2015: 34232.25489729045\n",
      "Sample Mean 2015: 75460.810432\n",
      "Population Mean 2016: 78711.19987224769\n",
      "Population Standard Deviation 2016: 33572.9812108376\n",
      "Sample Mean 2016: 77913.940768\n",
      "Sample Standard Deviation 2016: 33278.824779669034\n"
     ]
    }
   ],
   "source": [
    "import statistics\n",
    "\n",
    "# 2014\n",
    "pop_mean_2014 = payroll_2014['Annual_sal'].mean()\n",
    "pop_std_2014 = statistics.stdev(payroll_2014['Annual_sal'].tolist())  # Ensure list format\n",
    "sample_mean_2014 = payroll_2014_sample['Annual_sal'].mean()  # Ensure correct column selection\n",
    "\n",
    "print(f\"Population Mean 2014: {pop_mean_2014}\")\n",
    "print(f\"Population Standard Deviation 2014: {pop_std_2014}\")\n",
    "print(f\"Sample Mean 2014: {sample_mean_2014}\")\n",
    "\n",
    "# 2015\n",
    "pop_mean_2015 = payroll_2015['Annual_sal'].mean()\n",
    "pop_std_2015 = statistics.stdev(payroll_2015['Annual_sal'].tolist())  \n",
    "sample_mean_2015 = payroll_2015_sample['Annual_sal'].mean()\n",
    "\n",
    "print(f\"Population Mean 2015: {pop_mean_2015}\")\n",
    "print(f\"Population Standard Deviation 2015: {pop_std_2015}\")\n",
    "print(f\"Sample Mean 2015: {sample_mean_2015}\")\n",
    "\n",
    "# 2016\n",
    "pop_mean_2016 = payroll_2016['Annual_sal'].mean()\n",
    "pop_std_2016 = statistics.stdev(payroll_2016['Annual_sal'].tolist())  \n",
    "sample_mean_2016 = payroll_2016_sample['Annual_sal'].mean()\n",
    "sample_std_2016 = payroll_2016_sample['Annual_sal'].std()\n",
    "\n",
    "print(f\"Population Mean 2016: {pop_mean_2016}\")\n",
    "print(f\"Population Standard Deviation 2016: {pop_std_2016}\")\n",
    "print(f\"Sample Mean 2016: {sample_mean_2016}\")\n",
    "print(f\"Sample Standard Deviation 2016: {sample_std_2016}\")\n"
   ]
  },
  {
   "cell_type": "code",
   "execution_count": 48,
   "id": "efed25fb-916b-491f-83f8-505220f6f52a",
   "metadata": {},
   "outputs": [
    {
     "name": "stdout",
     "output_type": "stream",
     "text": [
      "TtestResult(statistic=1.040521490245847, pvalue=0.29819834162297815, df=2499)\n",
      "TtestResult(statistic=-1.6000274380120736, pvalue=0.10971890123229835, df=2499)\n",
      "TtestResult(statistic=-2.619943035954688, pvalue=0.008847667267000751, df=2499)\n"
     ]
    }
   ],
   "source": [
    "print(stats.ttest_rel(payroll_2014_sample['Annual_sal'],payroll_2015_sample['Annual_sal'], axis=0))\n",
    "print(stats.ttest_rel(payroll_2014_sample['Annual_sal'],payroll_2016_sample['Annual_sal'], axis=0))\n",
    "print(stats.ttest_rel(payroll_2015_sample['Annual_sal'],payroll_2016_sample['Annual_sal'], axis=0))"
   ]
  },
  {
   "cell_type": "code",
   "execution_count": 50,
   "id": "8b816a3c-bb0e-48be-9248-a7b3ff3247ed",
   "metadata": {},
   "outputs": [
    {
     "name": "stdout",
     "output_type": "stream",
     "text": [
      "Sample Mean 2014 69805.02799999999\n",
      "Sample Mean 2015 74172.59085714286\n",
      "Sample Mean 2016 30223.13171428572\n"
     ]
    }
   ],
   "source": [
    "payroll_2014 = payroll[payroll.Year ==2014]\n",
    "payroll_2014_elec = payroll_2014[payroll_2014.Job_title == 'Electrician']\n",
    "payroll_2015_elec = payroll_2015[payroll_2015.Job_title == 'Electrician']\n",
    "payroll_2016_elec = payroll_2016[payroll_2016.Job_title == 'Electrician']\n",
    "sample_elec_2014 = payroll_2014_elec.sample(frac=0.47)\n",
    "sample_elec_mean_2014 = sample_elec_2014['Base_Pay'].mean()\n",
    "print(\"Sample Mean 2014 \"+str(sample_elec_mean_2014))\n",
    "sample_elec_2015 = payroll_2015_elec.sample(frac=0.41)\n",
    "sample_elec_mean_2015 = sample_elec_2015['Base_Pay'].mean()\n",
    "print(\"Sample Mean 2015 \"+str(sample_elec_mean_2015))\n",
    "sample_elec_2016 = payroll_2016_elec.sample(frac=0.22)\n",
    "sample_elec_mean_2016 = sample_elec_2016['Base_Pay'].mean()\n",
    "print(\"Sample Mean 2016 \"+str(sample_elec_mean_2016))\n",
    "# Creating the Samples of the base pays over three years\n",
    "sam_1 = sample_elec_2014.Base_Pay\n",
    "sam_2 = sample_elec_2015.Base_Pay\n",
    "sam_3 = sample_elec_2016.Base_Pay"
   ]
  },
  {
   "cell_type": "markdown",
   "id": "2ea6df52-d729-48a8-89ad-22bb5c982b6b",
   "metadata": {},
   "source": [
    "### One way ANOVE FOR THE 3 YEARS BASE PAYS"
   ]
  },
  {
   "cell_type": "code",
   "execution_count": 53,
   "id": "a17f68cb-1fc4-4fe1-a944-2c3bc13a80c4",
   "metadata": {},
   "outputs": [
    {
     "name": "stdout",
     "output_type": "stream",
     "text": [
      "52.69519819036885  :  1.91596704639492e-16\n"
     ]
    }
   ],
   "source": [
    "f,p= stats.f_oneway(sam_1, sam_2, sam_3)\n",
    "print(f,' : ',p)"
   ]
  },
  {
   "cell_type": "markdown",
   "id": "7a406bf8-d5be-4d97-867e-8f21ac5053a8",
   "metadata": {},
   "source": [
    "#### P-value = 1.91596704639492e-16 (which is far less than 0.05) → Reject H₀."
   ]
  },
  {
   "cell_type": "markdown",
   "id": "67e86ae5-f66d-4545-bfa0-10104a8300f7",
   "metadata": {},
   "source": [
    "Conclusion:\n",
    "\n",
    "There is strong evidence that at least one of the sample means is significantly different from the others. You can proceed with a\n",
    "\n",
    "\n",
    "post-hoc test (like Tukey's HSD or pairwise t-tests) to determine which specific groups differ."
   ]
  },
  {
   "cell_type": "code",
   "execution_count": 63,
   "id": "a67f58c1-d7cf-4171-9381-9c11dd18b776",
   "metadata": {},
   "outputs": [],
   "source": [
    "# Creating a DataFrame for Tukey's test\n",
    "Tukey = pd.DataFrame({\n",
    "    \"values\": np.concatenate([sam_1, sam_2, sam_3]),\n",
    "    \"groups\": ([\"sam_1\"] * len(sam_1)) + \n",
    "              ([\"sam_2\"] * len(sam_2)) + \n",
    "              ([\"sam_3\"] * len(sam_3))\n",
    "})"
   ]
  },
  {
   "cell_type": "code",
   "execution_count": 65,
   "id": "77258423-984e-43ca-a694-bb9ce1b9f070",
   "metadata": {},
   "outputs": [
    {
     "data": {
      "text/html": [
       "<div>\n",
       "<style scoped>\n",
       "    .dataframe tbody tr th:only-of-type {\n",
       "        vertical-align: middle;\n",
       "    }\n",
       "\n",
       "    .dataframe tbody tr th {\n",
       "        vertical-align: top;\n",
       "    }\n",
       "\n",
       "    .dataframe thead th {\n",
       "        text-align: right;\n",
       "    }\n",
       "</style>\n",
       "<table border=\"1\" class=\"dataframe\">\n",
       "  <thead>\n",
       "    <tr style=\"text-align: right;\">\n",
       "      <th></th>\n",
       "      <th>values</th>\n",
       "      <th>groups</th>\n",
       "    </tr>\n",
       "  </thead>\n",
       "  <tbody>\n",
       "    <tr>\n",
       "      <th>0</th>\n",
       "      <td>80434.19</td>\n",
       "      <td>sam_1</td>\n",
       "    </tr>\n",
       "    <tr>\n",
       "      <th>1</th>\n",
       "      <td>79379.48</td>\n",
       "      <td>sam_1</td>\n",
       "    </tr>\n",
       "    <tr>\n",
       "      <th>2</th>\n",
       "      <td>79379.48</td>\n",
       "      <td>sam_1</td>\n",
       "    </tr>\n",
       "    <tr>\n",
       "      <th>3</th>\n",
       "      <td>79379.48</td>\n",
       "      <td>sam_1</td>\n",
       "    </tr>\n",
       "    <tr>\n",
       "      <th>4</th>\n",
       "      <td>79379.49</td>\n",
       "      <td>sam_1</td>\n",
       "    </tr>\n",
       "  </tbody>\n",
       "</table>\n",
       "</div>"
      ],
      "text/plain": [
       "     values groups\n",
       "0  80434.19  sam_1\n",
       "1  79379.48  sam_1\n",
       "2  79379.48  sam_1\n",
       "3  79379.48  sam_1\n",
       "4  79379.49  sam_1"
      ]
     },
     "execution_count": 65,
     "metadata": {},
     "output_type": "execute_result"
    }
   ],
   "source": [
    "Tukey.head()"
   ]
  },
  {
   "cell_type": "code",
   "execution_count": 67,
   "id": "dfe8dc71-3e36-4936-96d6-f7726180e1bd",
   "metadata": {},
   "outputs": [
    {
     "name": "stdout",
     "output_type": "stream",
     "text": [
      "      Multiple Comparison of Means - Tukey HSD, FWER=0.05      \n",
      "===============================================================\n",
      "group1 group2   meandiff  p-adj     lower       upper    reject\n",
      "---------------------------------------------------------------\n",
      " sam_1  sam_2   4367.5629 0.6252  -6851.2938  15586.4195  False\n",
      " sam_1  sam_3 -39581.8963    0.0 -50800.7529 -28363.0396   True\n",
      " sam_2  sam_3 -43949.4591    0.0 -55168.3158 -32730.6025   True\n",
      "---------------------------------------------------------------\n"
     ]
    }
   ],
   "source": [
    "tukey = pairwise_tukeyhsd(Tukey['values'], Tukey['groups'], alpha=0.05)\n",
    "print(tukey)"
   ]
  },
  {
   "cell_type": "code",
   "execution_count": 70,
   "id": "275c7258-31e5-4dec-80c4-96e92586d0cf",
   "metadata": {},
   "outputs": [
    {
     "data": {
      "image/png": "[encoded data removed]",
      "text/plain": [
       "<Figure size 800x600 with 1 Axes>"
      ]
     },
     "metadata": {},
     "output_type": "display_data"
    }
   ],
   "source": [
    "plt.figure(figsize=(8,6))\n",
    "sns.boxplot(x='groups', y='values',hue='groups', data=Tukey)\n",
    "plt.title(\"Group-wise Comparison\")\n",
    "plt.show()"
   ]
  },
  {
   "cell_type": "code",
   "execution_count": null,
   "id": "6206a159-f891-45cc-9293-5e3e167f4d92",
   "metadata": {},
   "outputs": [],
   "source": []
  },
  {
   "cell_type": "code",
   "execution_count": null,
   "id": "7707dc23-c74b-44f7-bdcc-4df01525d244",
   "metadata": {},
   "outputs": [],
   "source": []
  },
  {
   "cell_type": "code",
   "execution_count": null,
   "id": "afea0212-e088-4c8e-befe-5bca9653ac82",
   "metadata": {},
   "outputs": [],
   "source": []
  },
  {
   "cell_type": "code",
   "execution_count": null,
   "id": "3fef72ab-14f5-4d8a-96af-13ec5793293c",
   "metadata": {},
   "outputs": [],
   "source": []
  },
  {
   "cell_type": "code",
   "execution_count": null,
   "id": "283c9d38-39fc-4381-840c-98c0ceb3d993",
   "metadata": {},
   "outputs": [],
   "source": []
  },
  {
   "cell_type": "code",
   "execution_count": null,
   "id": "7b683ab5-3361-4a8c-999c-f7a522e5c005",
   "metadata": {},
   "outputs": [],
   "source": []
  },
  {
   "cell_type": "code",
   "execution_count": null,
   "id": "d2e6e1a9-1b0b-4daa-8b98-55be5126336f",
   "metadata": {},
   "outputs": [],
   "source": []
  },
  {
   "cell_type": "code",
   "execution_count": null,
   "id": "0e0e623e-a4e0-4636-9e5d-414a63861a42",
   "metadata": {},
   "outputs": [],
   "source": []
  }
 ],
 "metadata": {
  "kernelspec": {
   "display_name": "Python 3 (ipykernel)",
   "language": "python",
   "name": "python3"
  },
  "language_info": {
   "codemirror_mode": {
    "name": "ipython",
    "version": 3
   },
   "file_extension": ".py",
   "mimetype": "text/x-python",
   "name": "python",
   "nbconvert_exporter": "python",
   "pygments_lexer": "ipython3",
   "version": "3.12.3"
  }
 },
 "nbformat": 4,
 "nbformat_minor": 5
}
